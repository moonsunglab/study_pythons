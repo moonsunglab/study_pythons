{
  "nbformat": 4,
  "nbformat_minor": 0,
  "metadata": {
    "colab": {
      "provenance": [],
      "authorship_tag": "ABX9TyOmIlAgkm4jYMVh3RdeP7oO",
      "include_colab_link": true
    },
    "kernelspec": {
      "name": "python3",
      "display_name": "Python 3"
    },
    "language_info": {
      "name": "python"
    }
  },
  "cells": [
    {
      "cell_type": "markdown",
      "metadata": {
        "id": "view-in-github",
        "colab_type": "text"
      },
      "source": [
        "<a href=\"https://colab.research.google.com/github/moonsunglab/study_pythons/blob/main/codes/quests/40_primetives_ifs.ipynb\" target=\"_parent\"><img src=\"https://colab.research.google.com/assets/colab-badge.svg\" alt=\"Open In Colab\"/></a>"
      ]
    },
    {
      "cell_type": "markdown",
      "source": [
        "- 점수 입력 받아 A, B, C, D, F 등급 표시\n",
        "- 입력 : float 방식 (ex:4.2), 최고 값은 4.5, 0. 등급 낮아짐.\n",
        "- 출력 : 당신에 등급은 ? 입니다."
      ],
      "metadata": {
        "id": "i_0jqBX4yrfV"
      }
    },
    {
      "cell_type": "code",
      "source": [
        "first = input('당신의 점수는? ')\n",
        "first_value = float(first)\n",
        "\n",
        "if first_value >= 4.1 :\n",
        "  print('당신의 등급은 A입니다.')\n",
        "elif first_value >= 3.6 :\n",
        "  print('당신의 등급은 B입니다.')\n",
        "elif first_value >= 3.1 :\n",
        "  print('당신의 등급은 C입니다.')\n",
        "elif first_value >= 2.6 :\n",
        "  print('당신의 등급은 D입니다.')\n",
        "else :\n",
        "  print('당신의 등급은 F입니다')"
      ],
      "metadata": {
        "colab": {
          "base_uri": "https://localhost:8080/"
        },
        "id": "x2nyQdTnyuUo",
        "outputId": "d2871409-53bc-49b0-d0a7-d9a0200c0bc4"
      },
      "execution_count": 6,
      "outputs": [
        {
          "output_type": "stream",
          "name": "stdout",
          "text": [
            "당신의 점수는? 4.2\n",
            "당신의 등급은 A입니다.\n"
          ]
        }
      ]
    }
  ]
}