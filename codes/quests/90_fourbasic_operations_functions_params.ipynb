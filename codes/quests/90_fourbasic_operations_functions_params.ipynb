{
  "nbformat": 4,
  "nbformat_minor": 0,
  "metadata": {
    "colab": {
      "provenance": [],
      "authorship_tag": "ABX9TyOa3YtVvh/JMjl5Iy6SnI37",
      "include_colab_link": true
    },
    "kernelspec": {
      "name": "python3",
      "display_name": "Python 3"
    },
    "language_info": {
      "name": "python"
    }
  },
  "cells": [
    {
      "cell_type": "markdown",
      "metadata": {
        "id": "view-in-github",
        "colab_type": "text"
      },
      "source": [
        "<a href=\"https://colab.research.google.com/github/moonsunglab/study_pythons/blob/main/codes/quests/90_fourbasic_operations_functions_params.ipynb\" target=\"_parent\"><img src=\"https://colab.research.google.com/assets/colab-badge.svg\" alt=\"Open In Colab\"/></a>"
      ]
    },
    {
      "cell_type": "code",
      "execution_count": 2,
      "metadata": {
        "colab": {
          "base_uri": "https://localhost:8080/"
        },
        "id": "qnEjU6oVr2Cv",
        "outputId": "47c42df3-e88c-493d-963b-2b8f0f76af2a"
      },
      "outputs": [
        {
          "output_type": "stream",
          "name": "stdout",
          "text": [
            "5 + 6 = 11\n"
          ]
        }
      ],
      "source": [
        "# 덧셈 연산의 함수화\n",
        "\n",
        "def add(first_num , second_num) :\n",
        "  add_result = first_num + second_num\n",
        "  print(f'{first_num} + {second_num} = {add_result}')\n",
        "\n",
        "add(5, 6)"
      ]
    },
    {
      "cell_type": "code",
      "source": [
        "# 뺄셈 연산의 함수화\n",
        "\n",
        "def minus(first_num , second_num) :\n",
        "  minus_result = first_num - second_num\n",
        "  print(f'{first_num} - {second_num} = {minus_result}')\n",
        "\n",
        "minus(6, 7)"
      ],
      "metadata": {
        "colab": {
          "base_uri": "https://localhost:8080/"
        },
        "id": "Isk8wFkbsaJf",
        "outputId": "2348825b-846b-40a6-d3db-a38d933df3d3"
      },
      "execution_count": 4,
      "outputs": [
        {
          "output_type": "stream",
          "name": "stdout",
          "text": [
            "6 - 7 = -1\n"
          ]
        }
      ]
    },
    {
      "cell_type": "code",
      "source": [
        "# 곱셈 연산의 함수화\n",
        "\n",
        "def multiple(first_num , second_num) :\n",
        "  multiple_result = first_num * second_num\n",
        "  print(f'{first_num} * {second_num} = {multiple_result}')\n",
        "\n",
        "multiple(4, 3)"
      ],
      "metadata": {
        "colab": {
          "base_uri": "https://localhost:8080/"
        },
        "id": "E8IoZLl1swiD",
        "outputId": "a08db96e-e299-4be9-90d8-de3c6d317de9"
      },
      "execution_count": 7,
      "outputs": [
        {
          "output_type": "stream",
          "name": "stdout",
          "text": [
            "4 * 3 = 12\n"
          ]
        }
      ]
    },
    {
      "cell_type": "code",
      "source": [
        "# 나눗셈 연산의 함수화\n",
        "def division(first_num , second_num) :\n",
        "  division_result = first_num / second_num\n",
        "  print(f'{first_num} / {second_num} = {division_result}')\n",
        "\n",
        "division(6 , 4)"
      ],
      "metadata": {
        "colab": {
          "base_uri": "https://localhost:8080/"
        },
        "id": "tsAW7zqEs4M8",
        "outputId": "d090ac67-2ebe-4e26-eb4f-e618cd1d13e9"
      },
      "execution_count": 10,
      "outputs": [
        {
          "output_type": "stream",
          "name": "stdout",
          "text": [
            "6 / 4 = 1.5\n"
          ]
        }
      ]
    },
    {
      "cell_type": "code",
      "source": [],
      "metadata": {
        "id": "zWsitoQBtEtt"
      },
      "execution_count": null,
      "outputs": []
    }
  ]
}