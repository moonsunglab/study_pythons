{
  "nbformat": 4,
  "nbformat_minor": 0,
  "metadata": {
    "colab": {
      "provenance": [],
      "include_colab_link": true
    },
    "kernelspec": {
      "name": "python3",
      "display_name": "Python 3"
    },
    "language_info": {
      "name": "python"
    }
  },
  "cells": [
    {
      "cell_type": "markdown",
      "metadata": {
        "id": "view-in-github",
        "colab_type": "text"
      },
      "source": [
        "<a href=\"https://colab.research.google.com/github/moonsunglab/study_pythons/blob/main/codes/quests/70_fourbasic_operations_while.ipynb\" target=\"_parent\"><img src=\"https://colab.research.google.com/assets/colab-badge.svg\" alt=\"Open In Colab\"/></a>"
      ]
    },
    {
      "cell_type": "code",
      "source": [
        "print('계산기 시작')\n",
        "while True :\n",
        "  first_input = input('숫지압력 :')\n",
        "  if first_input == 'q' :\n",
        "    break\n",
        "  first_input_value = int(first_input)\n",
        "  fourbasic_operation = input('사칙연산 입력 :')\n",
        "  second_input = input('숫자입력 :')\n",
        "  second_input_value = int(second_input)\n",
        "  result_plus = first_input_value + second_input_value\n",
        "  result_minus = first_input_value - second_input_value\n",
        "  result_multiple = first_input_value * second_input_value\n",
        "  result_division = first_input_value / second_input_value\n",
        "  if fourbasic_operation == '+' :\n",
        "    print(f'{first_input_value} + {second_input_value} = {result_plus}')\n",
        "  elif fourbasic_operation == '-' :\n",
        "    print(f'{first_input_value} -{second_input_value} = {result_minus}')\n",
        "  elif fourbasic_operation == '*' :\n",
        "    print(f'{first_input_value} * {second_input_value} = {result_multiple}')\n",
        "  elif fourbasic_operation == '/' :\n",
        "    print(f'{first_input_value} / {second_input_value} = {result_division}')\n",
        "  else :\n",
        "    print('잘못된 연산기호입니다.')\n",
        "print('계산기 종료')"
      ],
      "metadata": {
        "colab": {
          "base_uri": "https://localhost:8080/"
        },
        "id": "QBtSxBw-OmFo",
        "outputId": "dcb7ed06-2351-48f4-90de-a82467761a95"
      },
      "execution_count": 15,
      "outputs": [
        {
          "output_type": "stream",
          "name": "stdout",
          "text": [
            "계산기 시작\n",
            "숫지압력 :3\n",
            "사칙연산 입력 :*\n",
            "숫자입력 :7\n",
            "3 * 7 = 21\n",
            "숫지압력 :4\n",
            "사칙연산 입력 :/\n",
            "숫자입력 :2\n",
            "4 / 2 = 2.0\n",
            "숫지압력 :3\n",
            "사칙연산 입력 :-\n",
            "숫자입력 :1\n",
            "3 -1 = 2\n",
            "숫지압력 :2\n",
            "사칙연산 입력 :+\n",
            "숫자입력 :1\n",
            "2 + 1 = 3\n",
            "숫지압력 :q\n",
            "계산기 종료\n"
          ]
        }
      ]
    },
    {
      "cell_type": "code",
      "source": [],
      "metadata": {
        "id": "KE1e9-WxOvTH"
      },
      "execution_count": null,
      "outputs": []
    }
  ]
}