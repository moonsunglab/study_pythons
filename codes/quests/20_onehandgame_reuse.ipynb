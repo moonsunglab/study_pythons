{
  "nbformat": 4,
  "nbformat_minor": 0,
  "metadata": {
    "colab": {
      "provenance": [],
      "include_colab_link": true
    },
    "kernelspec": {
      "name": "python3",
      "display_name": "Python 3"
    },
    "language_info": {
      "name": "python"
    }
  },
  "cells": [
    {
      "cell_type": "markdown",
      "metadata": {
        "id": "view-in-github",
        "colab_type": "text"
      },
      "source": [
        "<a href=\"https://colab.research.google.com/github/moonsunglab/study_pythons/blob/main/codes/quests/20_onehandgame_reuse.ipynb\" target=\"_parent\"><img src=\"https://colab.research.google.com/assets/colab-badge.svg\" alt=\"Open In Colab\"/></a>"
      ]
    },
    {
      "cell_type": "markdown",
      "source": [
        "##변수의 재사용\n",
        "-변수명과 변수값으로 구성"
      ],
      "metadata": {
        "id": "zlDCjWY5lQ0o"
      }
    },
    {
      "cell_type": "code",
      "execution_count": 33,
      "metadata": {
        "id": "cd_yuf4NreOI",
        "colab": {
          "base_uri": "https://localhost:8080/"
        },
        "outputId": "0a0ba193-9b4d-4c41-c5ca-23d5537581db"
      },
      "outputs": [
        {
          "output_type": "stream",
          "name": "stdout",
          "text": [
            "1 0 2\n"
          ]
        }
      ],
      "source": [
        "first_string=\"1\"\n",
        "second_string=\"0\"\n",
        "third_string=\"2\"\n",
        "print(first_string, second_string, third_string)"
      ]
    },
    {
      "cell_type": "code",
      "source": [
        "temp_string=\"0\"\n",
        "second_string=first_string\n",
        "first_string=temp_string\n",
        "print(first_string, second_string, third_string)"
      ],
      "metadata": {
        "id": "faUYpo5PY-Bc",
        "colab": {
          "base_uri": "https://localhost:8080/"
        },
        "outputId": "dcc1c153-88e8-442e-a05b-69d931434838"
      },
      "execution_count": 34,
      "outputs": [
        {
          "output_type": "stream",
          "name": "stdout",
          "text": [
            "0 1 2\n"
          ]
        }
      ]
    },
    {
      "cell_type": "code",
      "source": [
        "first_string=third_string\n",
        "third_string=temp_string\n",
        "print(first_string , second_string , third_string)"
      ],
      "metadata": {
        "colab": {
          "base_uri": "https://localhost:8080/"
        },
        "id": "cyQYO19Ynghh",
        "outputId": "bd84a89d-1d52-4190-c504-a11e43008a83"
      },
      "execution_count": 35,
      "outputs": [
        {
          "output_type": "stream",
          "name": "stdout",
          "text": [
            "2 1 0\n"
          ]
        }
      ]
    },
    {
      "cell_type": "code",
      "source": [
        "third_string = second_string\n",
        "second_string = temp_string\n",
        "print(first_string, second_string, third_string)"
      ],
      "metadata": {
        "colab": {
          "base_uri": "https://localhost:8080/"
        },
        "id": "OAYH9Ve9oAzo",
        "outputId": "75956bdb-a4d3-44e1-af69-f182dfef52e5"
      },
      "execution_count": 36,
      "outputs": [
        {
          "output_type": "stream",
          "name": "stdout",
          "text": [
            "2 0 1\n"
          ]
        }
      ]
    }
  ]
}