{
  "cells": [
    {
      "cell_type": "markdown",
      "metadata": {
        "colab_type": "text",
        "id": "view-in-github"
      },
      "source": [
        "<a href=\"https://colab.research.google.com/github/moonsunglab/study_pythons/blob/main/codes/quests/80_solve_problems_fors.ipynb\" target=\"_parent\"><img src=\"https://colab.research.google.com/assets/colab-badge.svg\" alt=\"Open In Colab\"/></a>"
      ]
    },
    {
      "cell_type": "markdown",
      "metadata": {
        "id": "BcH1P46E1Nvj"
      },
      "source": [
        "question = \"다음 중 Python의 약속어(키워드)가 아닌 것은 무엇인가요?\"\n",
        "\n",
        "choices = [\"def\", \"class\", \"lambda\", \"define\"]\n",
        "\n",
        "real_answer = 4\n"
      ]
    },
    {
      "cell_type": "code",
      "execution_count": null,
      "metadata": {
        "colab": {
          "base_uri": "https://localhost:8080/"
        },
        "id": "Qmdv6Ap_0k5a",
        "outputId": "43af9cef-f2ef-42c6-d94c-35db8a469909"
      },
      "outputs": [
        {
          "name": "stdout",
          "output_type": "stream",
          "text": [
            "다음 중 Python의 약속어(키워드)가 아닌 것은 무엇인가요?\n",
            "1. def\n",
            "2. class\n",
            "3. lambda\n",
            "4. define\n",
            "정답을 번호로 적으세요: 4\n",
            "정답입니다!\n"
          ]
        }
      ],
      "source": [
        "print('다음 중 Python의 약속어(키워드)가 아닌 것은 무엇인가요?')\n",
        "\n",
        "choices = [\"def\", \"class\", \"lambda\", \"define\"]\n",
        "choices_num = 1\n",
        "\n",
        "for index_value in choices :\n",
        "  print(f'{choices_num}. {index_value}')\n",
        "  choices_num = choices_num + 1\n",
        "\n",
        "\n",
        "real_answer = input('정답을 번호로 적으세요: ')\n",
        "if real_answer == '4':\n",
        "  print('정답입니다!')\n",
        "else:\n",
        "  print('오답입니다!')\n"
      ]
    }
  ],
  "metadata": {
    "colab": {
      "authorship_tag": "ABX9TyOVt1VkCc/SzjcefHNduUBt",
      "include_colab_link": true,
      "provenance": []
    },
    "kernelspec": {
      "display_name": "Python 3",
      "name": "python3"
    },
    "language_info": {
      "name": "python"
    }
  },
  "nbformat": 4,
  "nbformat_minor": 0
}
