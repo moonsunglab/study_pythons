{
  "nbformat": 4,
  "nbformat_minor": 0,
  "metadata": {
    "colab": {
      "provenance": [],
      "authorship_tag": "ABX9TyOVt1VkCc/SzjcefHNduUBt",
      "include_colab_link": true
    },
    "kernelspec": {
      "name": "python3",
      "display_name": "Python 3"
    },
    "language_info": {
      "name": "python"
    }
  },
  "cells": [
    {
      "cell_type": "markdown",
      "metadata": {
        "id": "view-in-github",
        "colab_type": "text"
      },
      "source": [
        "<a href=\"https://colab.research.google.com/github/moonsunglab/study_pythons/blob/main/codes/quests/80_solve_problems_fors.ipynb\" target=\"_parent\"><img src=\"https://colab.research.google.com/assets/colab-badge.svg\" alt=\"Open In Colab\"/></a>"
      ]
    },
    {
      "cell_type": "markdown",
      "source": [
        "question = \"다음 중 Python의 약속어(키워드)가 아닌 것은 무엇인가요?\"\n",
        "\n",
        "choices = [\"def\", \"class\", \"lambda\", \"define\"]\n",
        "\n",
        "real_answer = 4\n"
      ],
      "metadata": {
        "id": "BcH1P46E1Nvj"
      }
    },
    {
      "cell_type": "code",
      "source": [
        "print('다음 중 Python의 약속어(키워드)가 아닌 것은 무엇인가요?')\n",
        "\n",
        "choices = [\"def\", \"class\", \"lambda\", \"define\"]\n",
        "choices_num = 1\n",
        "\n",
        "for index_value in choices :\n",
        "  print(f'{choices_num}. {index_value}')\n",
        "  choices_num = choices_num + 1\n",
        "\n",
        "\n",
        "real_answer = input('정답을 번호로 적으세요: ')\n",
        "if real_answer == '4':\n",
        "  print('정답입니다!')\n",
        "else:\n",
        "  print('오답입니다!')\n"
      ],
      "metadata": {
        "colab": {
          "base_uri": "https://localhost:8080/"
        },
        "id": "Qmdv6Ap_0k5a",
        "outputId": "43af9cef-f2ef-42c6-d94c-35db8a469909"
      },
      "execution_count": 51,
      "outputs": [
        {
          "output_type": "stream",
          "name": "stdout",
          "text": [
            "다음 중 Python의 약속어(키워드)가 아닌 것은 무엇인가요?\n",
            "1. def\n",
            "2. class\n",
            "3. lambda\n",
            "4. define\n",
            "정답을 번호로 적으세요: 4\n",
            "정답입니다!\n"
          ]
        }
      ]
    }
  ]
}