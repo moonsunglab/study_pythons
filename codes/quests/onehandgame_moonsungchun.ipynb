{
  "nbformat": 4,
  "nbformat_minor": 0,
  "metadata": {
    "colab": {
      "provenance": [],
      "include_colab_link": true
    },
    "kernelspec": {
      "name": "python3",
      "display_name": "Python 3"
    },
    "language_info": {
      "name": "python"
    }
  },
  "cells": [
    {
      "cell_type": "markdown",
      "metadata": {
        "id": "view-in-github",
        "colab_type": "text"
      },
      "source": [
        "<a href=\"https://colab.research.google.com/github/moonsunglab/study_pythons/blob/main/codes/quests/onehandgame_moonsungchun.ipynb\" target=\"_parent\"><img src=\"https://colab.research.google.com/assets/colab-badge.svg\" alt=\"Open In Colab\"/></a>"
      ]
    },
    {
      "cell_type": "code",
      "execution_count": null,
      "metadata": {
        "id": "rubUOvNLr5oG",
        "colab": {
          "base_uri": "https://localhost:8080/"
        },
        "outputId": "2c8fa11b-315e-49bb-80b4-4099e2efb754"
      },
      "outputs": [
        {
          "output_type": "stream",
          "name": "stdout",
          "text": [
            "1  2\n"
          ]
        }
      ],
      "source": [
        "first_string = \"1\"\n",
        "second_string = \"\"\n",
        "third_string = \"2\"\n",
        "print(first_string , second_string , third_string)"
      ]
    },
    {
      "cell_type": "code",
      "source": [
        "print(second_string , first_string , third_string)"
      ],
      "metadata": {
        "colab": {
          "base_uri": "https://localhost:8080/"
        },
        "id": "BI5V1ng2v_l2",
        "outputId": "aa0a75ff-cf99-46d5-ec7a-531d6313de87"
      },
      "execution_count": null,
      "outputs": [
        {
          "output_type": "stream",
          "name": "stdout",
          "text": [
            " 1 2\n"
          ]
        }
      ]
    },
    {
      "cell_type": "code",
      "source": [
        "print(third_string , second_string , first_string)"
      ],
      "metadata": {
        "colab": {
          "base_uri": "https://localhost:8080/"
        },
        "id": "OltBUUuYwQN8",
        "outputId": "6e8319b8-dbf0-4652-92ae-ae7a979653e9"
      },
      "execution_count": null,
      "outputs": [
        {
          "output_type": "stream",
          "name": "stdout",
          "text": [
            "2  1\n"
          ]
        }
      ]
    },
    {
      "cell_type": "code",
      "source": [
        "print(\"push to github\")"
      ],
      "metadata": {
        "colab": {
          "base_uri": "https://localhost:8080/"
        },
        "id": "rrxWpHLYZXyz",
        "outputId": "6ba52241-e558-49f2-898c-9deaa806207b"
      },
      "execution_count": 2,
      "outputs": [
        {
          "output_type": "stream",
          "name": "stdout",
          "text": [
            "push to github\n"
          ]
        }
      ]
    }
  ]
}