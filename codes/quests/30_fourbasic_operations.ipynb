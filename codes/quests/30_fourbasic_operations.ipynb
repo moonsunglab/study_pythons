{
  "nbformat": 4,
  "nbformat_minor": 0,
  "metadata": {
    "colab": {
      "provenance": [],
      "include_colab_link": true
    },
    "kernelspec": {
      "name": "python3",
      "display_name": "Python 3"
    },
    "language_info": {
      "name": "python"
    }
  },
  "cells": [
    {
      "cell_type": "markdown",
      "metadata": {
        "id": "view-in-github",
        "colab_type": "text"
      },
      "source": [
        "<a href=\"https://colab.research.google.com/github/moonsunglab/study_pythons/blob/main/codes/quests/30_fourbasic_operations.ipynb\" target=\"_parent\"><img src=\"https://colab.research.google.com/assets/colab-badge.svg\" alt=\"Open In Colab\"/></a>"
      ]
    },
    {
      "cell_type": "markdown",
      "source": [
        "###사칙연산"
      ],
      "metadata": {
        "id": "lbaBx5kyX9rl"
      }
    },
    {
      "cell_type": "code",
      "source": [
        "7 + 3 , 7 - 3 , 7 * 3 , 7 / 3 , 7 % 3"
      ],
      "metadata": {
        "colab": {
          "base_uri": "https://localhost:8080/"
        },
        "id": "BI36GnXjW51M",
        "outputId": "def8349e-9d77-43a1-9887-df221b05327d"
      },
      "execution_count": null,
      "outputs": [
        {
          "output_type": "execute_result",
          "data": {
            "text/plain": [
              "(10, 4, 21, 2.3333333333333335, 1)"
            ]
          },
          "metadata": {},
          "execution_count": 61
        }
      ]
    },
    {
      "cell_type": "code",
      "source": [
        "input_first = input('input first')\n",
        "input_second = input('input_second')\n",
        "input_first_value = int(input_first)\n",
        "input_second_value = int(input_second)\n"
      ],
      "metadata": {
        "colab": {
          "base_uri": "https://localhost:8080/"
        },
        "id": "x8wA_JI0Yu8L",
        "outputId": "c866c225-a164-4b57-81d0-bc2b4e3ee1a5"
      },
      "execution_count": null,
      "outputs": [
        {
          "name": "stdout",
          "output_type": "stream",
          "text": [
            "input first7\n",
            "input_second3\n"
          ]
        }
      ]
    },
    {
      "cell_type": "code",
      "source": [
        "result_plus = input_first_value + input_second_value\n",
        "print(f'{result_plus} / {type(result_plus)}= {input_first_value} + {input_second_value}')"
      ],
      "metadata": {
        "colab": {
          "base_uri": "https://localhost:8080/"
        },
        "id": "X--jvkS9eBbS",
        "outputId": "42f8a51d-1284-49c7-bb93-5ceebad3f086"
      },
      "execution_count": null,
      "outputs": [
        {
          "output_type": "stream",
          "name": "stdout",
          "text": [
            "10 / <class 'int'>= 7 + 3\n"
          ]
        }
      ]
    },
    {
      "cell_type": "code",
      "source": [
        "result_minus = input_first_value - input_second_value\n",
        "print(f'{result_minus} / {type(result_minus)}= {input_first_value} - {input_second_value}')"
      ],
      "metadata": {
        "colab": {
          "base_uri": "https://localhost:8080/"
        },
        "id": "_dEKdAUQcyr7",
        "outputId": "f2ef4514-938b-45dc-f5fa-8de4a0a7b06d"
      },
      "execution_count": null,
      "outputs": [
        {
          "output_type": "stream",
          "name": "stdout",
          "text": [
            "4 / <class 'int'>= 7 - 3\n"
          ]
        }
      ]
    },
    {
      "cell_type": "code",
      "source": [
        "result_multiple = input_first_value * input_second_value\n",
        "print(f'{result_multiple} / {type(result_multiple)} = {input_first_value} * {input_second_value}')"
      ],
      "metadata": {
        "colab": {
          "base_uri": "https://localhost:8080/"
        },
        "id": "g6B3KmeVaU6v",
        "outputId": "b7c22cc8-5b95-45b6-de1e-86217d18ba20"
      },
      "execution_count": null,
      "outputs": [
        {
          "output_type": "stream",
          "name": "stdout",
          "text": [
            "21 / <class 'int'> = 7 * 3\n"
          ]
        }
      ]
    },
    {
      "cell_type": "code",
      "source": [
        "result_division = input_first_value / input_second_value\n",
        "print(f'{result_division} / {type(result_division)} = {input_first_value} / {input_second_value}')"
      ],
      "metadata": {
        "colab": {
          "base_uri": "https://localhost:8080/"
        },
        "id": "jN-covRSbSSP",
        "outputId": "c7a04f20-dbb1-4b00-d39c-669cf0fda893"
      },
      "execution_count": null,
      "outputs": [
        {
          "output_type": "stream",
          "name": "stdout",
          "text": [
            "2.3333333333333335 / <class 'float'> = 7 / 3\n"
          ]
        }
      ]
    },
    {
      "cell_type": "code",
      "source": [
        "result_surplus = input_first_value % input_second_value\n",
        "print(f'{result_surplus} / {type(result_surplus)} = {input_first_value} % {input_second_value}')"
      ],
      "metadata": {
        "colab": {
          "base_uri": "https://localhost:8080/"
        },
        "id": "yKgdaS_ecDbo",
        "outputId": "118f5128-2a1f-4854-c96c-19a8278f749b"
      },
      "execution_count": null,
      "outputs": [
        {
          "output_type": "stream",
          "name": "stdout",
          "text": [
            "1 / <class 'int'> = 7 % 3\n"
          ]
        }
      ]
    }
  ]
}