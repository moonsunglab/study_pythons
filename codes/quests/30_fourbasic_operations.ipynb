{
  "nbformat": 4,
  "nbformat_minor": 0,
  "metadata": {
    "colab": {
      "provenance": [],
      "authorship_tag": "ABX9TyPDK+gLAe9NR1w2jUKceChJ",
      "include_colab_link": true
    },
    "kernelspec": {
      "name": "python3",
      "display_name": "Python 3"
    },
    "language_info": {
      "name": "python"
    }
  },
  "cells": [
    {
      "cell_type": "markdown",
      "metadata": {
        "id": "view-in-github",
        "colab_type": "text"
      },
      "source": [
        "<a href=\"https://colab.research.google.com/github/moonsunglab/study_pythons/blob/main/codes/quests/30_fourbasic_operations.ipynb\" target=\"_parent\"><img src=\"https://colab.research.google.com/assets/colab-badge.svg\" alt=\"Open In Colab\"/></a>"
      ]
    },
    {
      "cell_type": "code",
      "source": [
        "first = input('몇 단? :')\n",
        "first_value = int(first)\n",
        "if 1<= first_value <= 9 :\n",
        "  second = 1\n",
        "  while second <= 9 :\n",
        "    result = first_value * second\n",
        "    print(f' {first_value} * {second} = {result}')\n",
        "    second = second + 1\n",
        "else :\n",
        "  print('구구단은 한자리 수만 가능합니다.')"
      ],
      "metadata": {
        "colab": {
          "base_uri": "https://localhost:8080/"
        },
        "id": "oN5IGq5UeXK3",
        "outputId": "63a5878d-ebca-442a-9cec-942f39bb3054"
      },
      "execution_count": 19,
      "outputs": [
        {
          "output_type": "stream",
          "name": "stdout",
          "text": [
            "몇 단? :3\n",
            " 3 * 1 = 3\n",
            " 3 * 2 = 6\n",
            " 3 * 3 = 9\n",
            " 3 * 4 = 12\n",
            " 3 * 5 = 15\n",
            " 3 * 6 = 18\n",
            " 3 * 7 = 21\n",
            " 3 * 8 = 24\n",
            " 3 * 9 = 27\n"
          ]
        }
      ]
    }
  ]
}