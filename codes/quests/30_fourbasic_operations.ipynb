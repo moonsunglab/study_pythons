{
  "nbformat": 4,
  "nbformat_minor": 0,
  "metadata": {
    "colab": {
      "provenance": [],
      "authorship_tag": "ABX9TyNWahEgVYTaY/Xk51jv55zV",
      "include_colab_link": true
    },
    "kernelspec": {
      "name": "python3",
      "display_name": "Python 3"
    },
    "language_info": {
      "name": "python"
    }
  },
  "cells": [
    {
      "cell_type": "markdown",
      "metadata": {
        "id": "view-in-github",
        "colab_type": "text"
      },
      "source": [
        "<a href=\"https://colab.research.google.com/github/moonsunglab/study_pythons/blob/main/codes/quests/30_fourbasic_operations.ipynb\" target=\"_parent\"><img src=\"https://colab.research.google.com/assets/colab-badge.svg\" alt=\"Open In Colab\"/></a>"
      ]
    },
    {
      "cell_type": "code",
      "source": [
        "first = input('몇단?  :')\n",
        "first_value = int(first)\n",
        "if 1<= first_value <= 9 :\n",
        "  second = 1\n",
        "  while second <= 9 :\n",
        "    print(first_value * second)\n",
        "    second = second + 1\n",
        "else :\n",
        "  print('구구단은 한자리 수만 가능합니다.')"
      ],
      "metadata": {
        "colab": {
          "base_uri": "https://localhost:8080/"
        },
        "id": "oN5IGq5UeXK3",
        "outputId": "70d141d7-ec8e-4eff-d8c8-74480ccf3c9e"
      },
      "execution_count": 12,
      "outputs": [
        {
          "output_type": "stream",
          "name": "stdout",
          "text": [
            "몇단?  :10\n",
            "구구단은 한자리 수만 가능합니다.\n"
          ]
        }
      ]
    }
  ]
}