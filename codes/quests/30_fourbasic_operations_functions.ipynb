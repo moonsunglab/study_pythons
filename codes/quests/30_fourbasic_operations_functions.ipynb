{
  "nbformat": 4,
  "nbformat_minor": 0,
  "metadata": {
    "colab": {
      "provenance": [],
      "include_colab_link": true
    },
    "kernelspec": {
      "name": "python3",
      "display_name": "Python 3"
    },
    "language_info": {
      "name": "python"
    }
  },
  "cells": [
    {
      "cell_type": "markdown",
      "metadata": {
        "id": "view-in-github",
        "colab_type": "text"
      },
      "source": [
        "<a href=\"https://colab.research.google.com/github/moonsunglab/study_pythons/blob/main/codes/quests/30_fourbasic_operations_functions.ipynb\" target=\"_parent\"><img src=\"https://colab.research.google.com/assets/colab-badge.svg\" alt=\"Open In Colab\"/></a>"
      ]
    },
    {
      "cell_type": "code",
      "source": [
        "def add() :\n",
        "  input_first_value = 5\n",
        "  input_second_value = 4\n",
        "  result_plus = input_first_value + input_second_value\n",
        "  print(f'{result_plus} / {type(result_plus)}= {input_first_value} + {input_second_value}')"
      ],
      "metadata": {
        "id": "QlTouaXL20xP"
      },
      "execution_count": 4,
      "outputs": []
    },
    {
      "cell_type": "code",
      "source": [
        "add()"
      ],
      "metadata": {
        "colab": {
          "base_uri": "https://localhost:8080/"
        },
        "id": "QmTbX4cY4dxu",
        "outputId": "db21fea8-47e3-454c-fdc8-704085138f82"
      },
      "execution_count": 7,
      "outputs": [
        {
          "output_type": "stream",
          "name": "stdout",
          "text": [
            "9 / <class 'int'>= 5 + 4\n"
          ]
        }
      ]
    },
    {
      "cell_type": "code",
      "source": [
        "def minus() :\n",
        "  result_minus = input_first_value - input_second_value\n",
        "  print(f'{result_minus} / {type(result_minus)}= {input_first_value} - {input_second_value}')"
      ],
      "metadata": {
        "id": "twnRKXKx8ArO"
      },
      "execution_count": 9,
      "outputs": []
    },
    {
      "cell_type": "code",
      "source": [
        "minus()"
      ],
      "metadata": {
        "colab": {
          "base_uri": "https://localhost:8080/"
        },
        "id": "DWRUaLE98RsG",
        "outputId": "7e25b4b0-726e-4179-921e-e1587a720681"
      },
      "execution_count": 10,
      "outputs": [
        {
          "output_type": "stream",
          "name": "stdout",
          "text": [
            "1 / <class 'int'>= 5 - 4\n"
          ]
        }
      ]
    },
    {
      "cell_type": "code",
      "source": [
        "def multiple() :\n",
        "  result_multiple = input_first_value * input_second_value\n",
        "  print(f'{result_multiple} / {type(result_multiple)} = {input_first_value} * {input_second_value}')"
      ],
      "metadata": {
        "id": "YwIAisZ18YoF"
      },
      "execution_count": 16,
      "outputs": []
    },
    {
      "cell_type": "code",
      "source": [
        "multiple()"
      ],
      "metadata": {
        "colab": {
          "base_uri": "https://localhost:8080/"
        },
        "id": "8XWivKqP8iLu",
        "outputId": "96f76c3f-8d51-468f-d27b-70e73d472c2f"
      },
      "execution_count": 17,
      "outputs": [
        {
          "output_type": "stream",
          "name": "stdout",
          "text": [
            "20 / <class 'int'> = 5 * 4\n"
          ]
        }
      ]
    },
    {
      "cell_type": "code",
      "source": [
        "def division() :\n",
        "  result_division = input_first_value / input_second_value\n",
        "  print(f'{result_division} / {type(result_division)} = {input_first_value} / {input_second_value}')"
      ],
      "metadata": {
        "id": "M_Ql2SWf8kbp"
      },
      "execution_count": 18,
      "outputs": []
    },
    {
      "cell_type": "code",
      "source": [
        "division()"
      ],
      "metadata": {
        "colab": {
          "base_uri": "https://localhost:8080/"
        },
        "id": "DRrDvMAk82Lm",
        "outputId": "9e54a06d-64f8-4a77-becf-e133086b2412"
      },
      "execution_count": 19,
      "outputs": [
        {
          "output_type": "stream",
          "name": "stdout",
          "text": [
            "1.25 / <class 'float'> = 5 / 4\n"
          ]
        }
      ]
    },
    {
      "cell_type": "code",
      "source": [
        "def surplus() :\n",
        "  result_surplus = input_first_value % input_second_value\n",
        "  print(f'{result_surplus} / {type(result_surplus)} = {input_first_value} % {input_second_value}')"
      ],
      "metadata": {
        "id": "EavJQrUQ87oN"
      },
      "execution_count": 21,
      "outputs": []
    },
    {
      "cell_type": "code",
      "source": [
        "surplus()"
      ],
      "metadata": {
        "colab": {
          "base_uri": "https://localhost:8080/"
        },
        "id": "LQLAef029Ap5",
        "outputId": "5c32b3f7-f863-4baa-eacc-d7460b408b59"
      },
      "execution_count": 23,
      "outputs": [
        {
          "output_type": "stream",
          "name": "stdout",
          "text": [
            "1 / <class 'int'> = 5 % 4\n"
          ]
        }
      ]
    }
  ]
}