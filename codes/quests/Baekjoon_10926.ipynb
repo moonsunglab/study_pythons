{
  "nbformat": 4,
  "nbformat_minor": 0,
  "metadata": {
    "colab": {
      "provenance": [],
      "authorship_tag": "ABX9TyPr0drUsqA9U17tm/H13177",
      "include_colab_link": true
    },
    "kernelspec": {
      "name": "python3",
      "display_name": "Python 3"
    },
    "language_info": {
      "name": "python"
    }
  },
  "cells": [
    {
      "cell_type": "markdown",
      "metadata": {
        "id": "view-in-github",
        "colab_type": "text"
      },
      "source": [
        "<a href=\"https://colab.research.google.com/github/moonsunglab/study_pythons/blob/main/codes/quests/Baekjoon_10926.ipynb\" target=\"_parent\"><img src=\"https://colab.research.google.com/assets/colab-badge.svg\" alt=\"Open In Colab\"/></a>"
      ]
    },
    {
      "cell_type": "code",
      "source": [
        "user_ID = input('아이디를 입력하세요: ')"
      ],
      "metadata": {
        "colab": {
          "base_uri": "https://localhost:8080/"
        },
        "id": "VyST0FQlI5rx",
        "outputId": "d4be6258-4dc5-4d11-dfb5-c7ab8e77c093"
      },
      "execution_count": 18,
      "outputs": [
        {
          "name": "stdout",
          "output_type": "stream",
          "text": [
            "아이디를 입력하세요: joonas\n"
          ]
        }
      ]
    },
    {
      "cell_type": "code",
      "source": [
        "if user_ID = 'joonas' :\n",
        "  print('??!')\n",
        "else :\n",
        "  input('아이디를 입력하세요:')"
      ],
      "metadata": {
        "id": "iUI4SmuCJ7ih"
      },
      "execution_count": null,
      "outputs": []
    }
  ]
}