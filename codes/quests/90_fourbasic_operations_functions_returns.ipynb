{
  "nbformat": 4,
  "nbformat_minor": 0,
  "metadata": {
    "colab": {
      "provenance": [],
      "authorship_tag": "ABX9TyM2Lv+x0PKNZ9j3OlMWw558",
      "include_colab_link": true
    },
    "kernelspec": {
      "name": "python3",
      "display_name": "Python 3"
    },
    "language_info": {
      "name": "python"
    }
  },
  "cells": [
    {
      "cell_type": "markdown",
      "metadata": {
        "id": "view-in-github",
        "colab_type": "text"
      },
      "source": [
        "<a href=\"https://colab.research.google.com/github/moonsunglab/study_pythons/blob/main/codes/quests/90_fourbasic_operations_functions_returns.ipynb\" target=\"_parent\"><img src=\"https://colab.research.google.com/assets/colab-badge.svg\" alt=\"Open In Colab\"/></a>"
      ]
    },
    {
      "cell_type": "markdown",
      "source": [
        "## 사칙연산을 마이크로 함수화 하고 호출결과를 출력하라"
      ],
      "metadata": {
        "id": "Z_zQryWPDO-o"
      }
    },
    {
      "cell_type": "markdown",
      "source": [
        "### 덧셈"
      ],
      "metadata": {
        "id": "vYJk0v7KDfnA"
      }
    },
    {
      "cell_type": "code",
      "execution_count": 47,
      "metadata": {
        "id": "nXzFzIdR9bCQ"
      },
      "outputs": [],
      "source": [
        "def add(input_first_value ,input_second_value ) :\n",
        "  result_plus = input_first_value + input_second_value\n",
        "  return result_plus"
      ]
    },
    {
      "cell_type": "code",
      "source": [
        "add(4, 6)"
      ],
      "metadata": {
        "colab": {
          "base_uri": "https://localhost:8080/"
        },
        "id": "rqLtmOem9nXJ",
        "outputId": "76658928-9d35-482f-aeed-ab5dfa5c2e1d"
      },
      "execution_count": 48,
      "outputs": [
        {
          "output_type": "execute_result",
          "data": {
            "text/plain": [
              "10"
            ]
          },
          "metadata": {},
          "execution_count": 48
        }
      ]
    },
    {
      "cell_type": "code",
      "source": [
        "first_p = 4\n",
        "second_p = 6\n",
        "result_return_p = add(first_p , second_p)"
      ],
      "metadata": {
        "id": "7DbBcm4z93I0"
      },
      "execution_count": 49,
      "outputs": []
    },
    {
      "cell_type": "code",
      "source": [
        "print(f'{result_return_p} / {type(result_return_p)} = {first_p} + {second_p}')"
      ],
      "metadata": {
        "colab": {
          "base_uri": "https://localhost:8080/"
        },
        "id": "LsiEEjbb9_bK",
        "outputId": "b4548812-9ca8-4a6f-d080-e3104a5356e4"
      },
      "execution_count": 50,
      "outputs": [
        {
          "output_type": "stream",
          "name": "stdout",
          "text": [
            "10 / <class 'int'> = 4 + 6\n"
          ]
        }
      ]
    },
    {
      "cell_type": "markdown",
      "source": [
        "### 뺄셈"
      ],
      "metadata": {
        "id": "ZgtTZtHwDjnY"
      }
    },
    {
      "cell_type": "code",
      "source": [
        "def minus(first_num , second_num) :\n",
        "  minus_result = first_num - second_num\n",
        "  return minus_result"
      ],
      "metadata": {
        "id": "biLbhqhX-70q"
      },
      "execution_count": 51,
      "outputs": []
    },
    {
      "cell_type": "code",
      "source": [
        "minus(5,6)"
      ],
      "metadata": {
        "colab": {
          "base_uri": "https://localhost:8080/"
        },
        "id": "Xi9ywLoj_GGR",
        "outputId": "dde2492a-3768-465f-b3ba-c7035a8e7109"
      },
      "execution_count": 52,
      "outputs": [
        {
          "output_type": "execute_result",
          "data": {
            "text/plain": [
              "-1"
            ]
          },
          "metadata": {},
          "execution_count": 52
        }
      ]
    },
    {
      "cell_type": "code",
      "source": [
        "first_m = 5\n",
        "second_m = 6\n",
        "result_return_m = minus(first_m , second_m)"
      ],
      "metadata": {
        "id": "creK25v0_vVS"
      },
      "execution_count": 53,
      "outputs": []
    },
    {
      "cell_type": "code",
      "source": [
        "print(f'{result_return_m} / {type(result_return_m)} = {first_m} - {second_m}')"
      ],
      "metadata": {
        "colab": {
          "base_uri": "https://localhost:8080/"
        },
        "id": "QZzG665R_Khu",
        "outputId": "36cb331d-bf03-496c-8fd7-f088422fe282"
      },
      "execution_count": 63,
      "outputs": [
        {
          "output_type": "stream",
          "name": "stdout",
          "text": [
            "-1 / <class 'int'> = 5 - 6\n"
          ]
        }
      ]
    },
    {
      "cell_type": "markdown",
      "source": [
        "### 곱셈"
      ],
      "metadata": {
        "id": "dw92nFTcDpto"
      }
    },
    {
      "cell_type": "code",
      "source": [
        "def multiple(first_num , second_num) :\n",
        "  multiple_result = first_num * second_num\n",
        "  return multiple_result"
      ],
      "metadata": {
        "id": "4VTSrsidAmZg"
      },
      "execution_count": 55,
      "outputs": []
    },
    {
      "cell_type": "code",
      "source": [
        "multiple(2 , 10)"
      ],
      "metadata": {
        "colab": {
          "base_uri": "https://localhost:8080/"
        },
        "id": "EnOhW9qnAxhZ",
        "outputId": "d28b6bfd-e04b-44de-f9f7-6e5c46bdb60f"
      },
      "execution_count": 56,
      "outputs": [
        {
          "output_type": "execute_result",
          "data": {
            "text/plain": [
              "20"
            ]
          },
          "metadata": {},
          "execution_count": 56
        }
      ]
    },
    {
      "cell_type": "code",
      "source": [
        "first_m2 = 2\n",
        "second_m2 = 10\n",
        "result_return_m2 = multiple(first_m2 , second_m2)"
      ],
      "metadata": {
        "id": "1S-glaSiA1cB"
      },
      "execution_count": 57,
      "outputs": []
    },
    {
      "cell_type": "code",
      "source": [
        "print(f'{result_return_m2} / {type(result_return_m2)} = {first_m2} * {second_m2}')"
      ],
      "metadata": {
        "colab": {
          "base_uri": "https://localhost:8080/"
        },
        "id": "MunpAj3YBWsL",
        "outputId": "217e1901-d548-4e8e-cab5-648d7a8172c1"
      },
      "execution_count": 58,
      "outputs": [
        {
          "output_type": "stream",
          "name": "stdout",
          "text": [
            "20 / <class 'int'> = 2 * 10\n"
          ]
        }
      ]
    },
    {
      "cell_type": "markdown",
      "source": [
        "### 나눗셈"
      ],
      "metadata": {
        "id": "3nXB3W3ZDsUY"
      }
    },
    {
      "cell_type": "code",
      "source": [
        "def division(first_num , second_num) :\n",
        "  division_result = first_num / second_num\n",
        "  return division_result"
      ],
      "metadata": {
        "id": "QWvvgs6zBkvj"
      },
      "execution_count": 59,
      "outputs": []
    },
    {
      "cell_type": "code",
      "source": [
        "division(100 , 5)"
      ],
      "metadata": {
        "colab": {
          "base_uri": "https://localhost:8080/"
        },
        "id": "Fqbi9H0RB6IR",
        "outputId": "a81da2b3-f099-4e17-8bf9-08b2658931be"
      },
      "execution_count": 60,
      "outputs": [
        {
          "output_type": "execute_result",
          "data": {
            "text/plain": [
              "20.0"
            ]
          },
          "metadata": {},
          "execution_count": 60
        }
      ]
    },
    {
      "cell_type": "code",
      "source": [
        "first_d = 100\n",
        "second_d = 5\n",
        "result_return_d = division(first_d , second_d)"
      ],
      "metadata": {
        "id": "LkkHdxyECAGY"
      },
      "execution_count": 61,
      "outputs": []
    },
    {
      "cell_type": "code",
      "source": [
        "print(f'{result_return_d} / {type(result_return_d)} = {first_d} / {second_d}')"
      ],
      "metadata": {
        "colab": {
          "base_uri": "https://localhost:8080/"
        },
        "id": "dLJQ6kfYCVJu",
        "outputId": "83ffc23a-906f-4c39-ef6a-e1da4bcc8376"
      },
      "execution_count": 62,
      "outputs": [
        {
          "output_type": "stream",
          "name": "stdout",
          "text": [
            "20.0 / <class 'float'> = 100 / 5\n"
          ]
        }
      ]
    }
  ]
}