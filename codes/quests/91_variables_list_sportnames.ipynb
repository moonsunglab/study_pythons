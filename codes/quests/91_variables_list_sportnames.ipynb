{
  "nbformat": 4,
  "nbformat_minor": 0,
  "metadata": {
    "colab": {
      "provenance": [],
      "authorship_tag": "ABX9TyObeQXXjQxziEhusjjnG28B",
      "include_colab_link": true
    },
    "kernelspec": {
      "name": "python3",
      "display_name": "Python 3"
    },
    "language_info": {
      "name": "python"
    }
  },
  "cells": [
    {
      "cell_type": "markdown",
      "metadata": {
        "id": "view-in-github",
        "colab_type": "text"
      },
      "source": [
        "<a href=\"https://colab.research.google.com/github/moonsunglab/study_pythons/blob/main/codes/quests/91_variables_list_sportnames.ipynb\" target=\"_parent\"><img src=\"https://colab.research.google.com/assets/colab-badge.svg\" alt=\"Open In Colab\"/></a>"
      ]
    },
    {
      "cell_type": "markdown",
      "source": [
        "## Sports 리스트 작성"
      ],
      "metadata": {
        "id": "bAwqofWXl95B"
      }
    },
    {
      "cell_type": "code",
      "execution_count": 8,
      "metadata": {
        "colab": {
          "base_uri": "https://localhost:8080/"
        },
        "id": "atM4J1opl3tg",
        "outputId": "bdd2a1d2-b42b-44ad-c8ee-4f3f3e289b65"
      },
      "outputs": [
        {
          "output_type": "execute_result",
          "data": {
            "text/plain": [
              "[]"
            ]
          },
          "metadata": {},
          "execution_count": 8
        }
      ],
      "source": [
        "sports = []\n",
        "sports"
      ]
    },
    {
      "cell_type": "code",
      "source": [
        "while True :\n",
        "  sports_list = input(\"스포츠를 넣어주세요 : \")\n",
        "  if sports_list == 'exit':\n",
        "    break\n",
        "  sports.append(sports_list)\n",
        "  print(sports)\n",
        "\n",
        "print('스포츠 리스트 작성을 종료합니다.')"
      ],
      "metadata": {
        "colab": {
          "base_uri": "https://localhost:8080/"
        },
        "id": "ntzs6WGQmvxH",
        "outputId": "bc964ca8-663c-41ad-b854-f600a89b1bf8"
      },
      "execution_count": 9,
      "outputs": [
        {
          "output_type": "stream",
          "name": "stdout",
          "text": [
            "스포츠를 넣어주세요 : soccer\n",
            "['soccer']\n",
            "스포츠를 넣어주세요 : tennis\n",
            "['soccer', 'tennis']\n",
            "스포츠를 넣어주세요 : basketball\n",
            "['soccer', 'tennis', 'basketball']\n",
            "스포츠를 넣어주세요 : UFC\n",
            "['soccer', 'tennis', 'basketball', 'UFC']\n",
            "스포츠를 넣어주세요 : bowling\n",
            "['soccer', 'tennis', 'basketball', 'UFC', 'bowling']\n",
            "스포츠를 넣어주세요 : exit\n",
            "스포츠 리스트 작성을 종료합니다.\n"
          ]
        }
      ]
    }
  ]
}