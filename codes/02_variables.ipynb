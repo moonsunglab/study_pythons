{
  "nbformat": 4,
  "nbformat_minor": 0,
  "metadata": {
    "colab": {
      "provenance": [],
      "toc_visible": true,
      "include_colab_link": true
    },
    "kernelspec": {
      "name": "python3",
      "display_name": "Python 3"
    },
    "language_info": {
      "name": "python"
    }
  },
  "cells": [
    {
      "cell_type": "markdown",
      "metadata": {
        "id": "view-in-github",
        "colab_type": "text"
      },
      "source": [
        "<a href=\"https://colab.research.google.com/github/moonsunglab/study_pythons/blob/main/codes/02_variables.ipynb\" target=\"_parent\"><img src=\"https://colab.research.google.com/assets/colab-badge.svg\" alt=\"Open In Colab\"/></a>"
      ]
    },
    {
      "cell_type": "markdown",
      "source": [
        "##변수의 재사용\n",
        "-변수명과 변수값으로 구성"
      ],
      "metadata": {
        "id": "zlDCjWY5lQ0o"
      }
    },
    {
      "cell_type": "code",
      "execution_count": null,
      "metadata": {
        "id": "cd_yuf4NreOI",
        "colab": {
          "base_uri": "https://localhost:8080/"
        },
        "outputId": "0a0ba193-9b4d-4c41-c5ca-23d5537581db"
      },
      "outputs": [
        {
          "output_type": "stream",
          "name": "stdout",
          "text": [
            "1 0 2\n"
          ]
        }
      ],
      "source": [
        "first_string=\"1\"\n",
        "second_string=\"0\"\n",
        "third_string=\"2\"\n",
        "print(first_string, second_string, third_string)"
      ]
    },
    {
      "cell_type": "code",
      "source": [
        "temp_string=\"0\"\n",
        "second_string=first_string\n",
        "first_string=temp_string\n",
        "print(first_string, second_string, third_string)"
      ],
      "metadata": {
        "id": "faUYpo5PY-Bc",
        "colab": {
          "base_uri": "https://localhost:8080/"
        },
        "outputId": "dcc1c153-88e8-442e-a05b-69d931434838"
      },
      "execution_count": null,
      "outputs": [
        {
          "output_type": "stream",
          "name": "stdout",
          "text": [
            "0 1 2\n"
          ]
        }
      ]
    },
    {
      "cell_type": "code",
      "source": [
        "first_string=third_string\n",
        "third_string=temp_string\n",
        "print(first_string , second_string , third_string)"
      ],
      "metadata": {
        "colab": {
          "base_uri": "https://localhost:8080/"
        },
        "id": "cyQYO19Ynghh",
        "outputId": "bd84a89d-1d52-4190-c504-a11e43008a83"
      },
      "execution_count": null,
      "outputs": [
        {
          "output_type": "stream",
          "name": "stdout",
          "text": [
            "2 1 0\n"
          ]
        }
      ]
    },
    {
      "cell_type": "code",
      "source": [
        "third_string = second_string\n",
        "second_string = temp_string\n",
        "print(first_string, second_string, third_string)"
      ],
      "metadata": {
        "colab": {
          "base_uri": "https://localhost:8080/"
        },
        "id": "OAYH9Ve9oAzo",
        "outputId": "75956bdb-a4d3-44e1-af69-f182dfef52e5"
      },
      "execution_count": null,
      "outputs": [
        {
          "output_type": "stream",
          "name": "stdout",
          "text": [
            "2 0 1\n"
          ]
        }
      ]
    },
    {
      "cell_type": "markdown",
      "source": [
        "## 외부 값 입력\n"
      ],
      "metadata": {
        "id": "0Js5cq8AHHJ4"
      }
    },
    {
      "cell_type": "markdown",
      "source": [
        "### 변수값 종류 확인"
      ],
      "metadata": {
        "id": "0nSU8BoJHcs4"
      }
    },
    {
      "cell_type": "code",
      "source": [
        "first = 'first value'\n",
        "second = ' 5 '\n",
        "third = 3\n",
        "print_string = f'first : {first} , second : {second} , third : {third}'\n",
        "print(print_string)"
      ],
      "metadata": {
        "id": "p1pSBaYsHZju",
        "colab": {
          "base_uri": "https://localhost:8080/"
        },
        "outputId": "eeab769a-9052-4db9-8d4c-ff4d0ab6be7d"
      },
      "execution_count": null,
      "outputs": [
        {
          "output_type": "stream",
          "name": "stdout",
          "text": [
            "first : first value , second :  5  , third : 3\n"
          ]
        }
      ]
    },
    {
      "cell_type": "code",
      "source": [
        "#second + third\n",
        "#type(5) , type('5') , type(4.5)\n",
        "#can only concatenate str (not \"int\") to str\n",
        "print_string = f'first : {first}-{type(first)} , second : {second}/{type(second)} , third : {third}-{type(third)}'\n",
        "print(print_string)\n"
      ],
      "metadata": {
        "id": "3dXpo84UHGe5",
        "colab": {
          "base_uri": "https://localhost:8080/"
        },
        "outputId": "8254de33-1634-4aa5-a3e0-cbb363b64445"
      },
      "execution_count": null,
      "outputs": [
        {
          "output_type": "stream",
          "name": "stdout",
          "text": [
            "first : first value-<class 'str'> , second :  5 /<class 'str'> , third : 3-<class 'int'>\n"
          ]
        }
      ]
    },
    {
      "cell_type": "markdown",
      "source": [],
      "metadata": {
        "id": "-EIoUfuWyJRw"
      }
    },
    {
      "cell_type": "markdown",
      "source": [
        "### datatype 변경"
      ],
      "metadata": {
        "id": "X8yKme3mLe53"
      }
    },
    {
      "cell_type": "code",
      "source": [
        "#int(second)\n",
        "#함수는 항상 결과값\n",
        "second_value = int (second)\n",
        "print(f'{second_value} / {type(second_value)}')\n"
      ],
      "metadata": {
        "colab": {
          "base_uri": "https://localhost:8080/"
        },
        "id": "U8Qy9bf6Llxr",
        "outputId": "53215825-0f16-4484-dbc3-fa1af43ffec7"
      },
      "execution_count": null,
      "outputs": [
        {
          "output_type": "stream",
          "name": "stdout",
          "text": [
            "5 / <class 'int'>\n"
          ]
        }
      ]
    },
    {
      "cell_type": "code",
      "source": [
        "second_value + third"
      ],
      "metadata": {
        "colab": {
          "base_uri": "https://localhost:8080/"
        },
        "id": "lT37si-bMrpn",
        "outputId": "691fd60a-2ce4-4cbc-a198-5db729a29251"
      },
      "execution_count": null,
      "outputs": [
        {
          "output_type": "execute_result",
          "data": {
            "text/plain": [
              "8"
            ]
          },
          "metadata": {},
          "execution_count": 16
        }
      ]
    },
    {
      "cell_type": "code",
      "source": [
        "result = second_value + third\n",
        "print(f'{result} / {type(result)}')"
      ],
      "metadata": {
        "colab": {
          "base_uri": "https://localhost:8080/"
        },
        "id": "u8LLx8QCMz2J",
        "outputId": "beef91a3-a35b-485f-f835-094927228011"
      },
      "execution_count": null,
      "outputs": [
        {
          "output_type": "stream",
          "name": "stdout",
          "text": [
            "8 / <class 'int'>\n"
          ]
        }
      ]
    },
    {
      "cell_type": "code",
      "source": [
        "result_value = str(result)\n",
        "print (f'{result_value} / {type(result_value)}')"
      ],
      "metadata": {
        "colab": {
          "base_uri": "https://localhost:8080/"
        },
        "id": "7B2dLhfcONIf",
        "outputId": "3614cc7c-9124-487f-f2a5-7a14042015d1"
      },
      "execution_count": null,
      "outputs": [
        {
          "output_type": "stream",
          "name": "stdout",
          "text": [
            "8 / <class 'str'>\n"
          ]
        }
      ]
    },
    {
      "cell_type": "code",
      "source": [
        "#int(first)\n",
        "#ValueError: invalid literal for int() with base 10: 'first value'"
      ],
      "metadata": {
        "colab": {
          "base_uri": "https://localhost:8080/",
          "height": 146
        },
        "id": "nxOpVq1vOpb7",
        "outputId": "6bf2e022-99ea-4695-c6b7-722887653cf6"
      },
      "execution_count": null,
      "outputs": [
        {
          "output_type": "error",
          "ename": "ValueError",
          "evalue": "invalid literal for int() with base 10: 'first value'",
          "traceback": [
            "\u001b[0;31m---------------------------------------------------------------------------\u001b[0m",
            "\u001b[0;31mValueError\u001b[0m                                Traceback (most recent call last)",
            "\u001b[0;32m<ipython-input-23-cae97ee0b893>\u001b[0m in \u001b[0;36m<cell line: 0>\u001b[0;34m()\u001b[0m\n\u001b[0;32m----> 1\u001b[0;31m \u001b[0mint\u001b[0m\u001b[0;34m(\u001b[0m\u001b[0mfirst\u001b[0m\u001b[0;34m)\u001b[0m\u001b[0;34m\u001b[0m\u001b[0;34m\u001b[0m\u001b[0m\n\u001b[0m",
            "\u001b[0;31mValueError\u001b[0m: invalid literal for int() with base 10: 'first value'"
          ]
        }
      ]
    },
    {
      "cell_type": "markdown",
      "source": [
        "### input()"
      ],
      "metadata": {
        "id": "ei8cndsAPsJe"
      }
    },
    {
      "cell_type": "code",
      "source": [
        "# input()\n",
        "fourth = input()\n",
        "\n",
        "print(f'{fourth} / {type(fourth)}')"
      ],
      "metadata": {
        "colab": {
          "base_uri": "https://localhost:8080/"
        },
        "id": "E3eSPaAjPq8O",
        "outputId": "96174847-4ca5-4af5-af93-e9366e254bf5"
      },
      "execution_count": null,
      "outputs": [
        {
          "output_type": "stream",
          "name": "stdout",
          "text": [
            "454\n",
            "454 / <class 'str'>\n"
          ]
        }
      ]
    },
    {
      "cell_type": "code",
      "source": [
        "# fourth + third\n",
        "int(fourth) + third #datatype casting"
      ],
      "metadata": {
        "colab": {
          "base_uri": "https://localhost:8080/"
        },
        "id": "ThiutodwT1LF",
        "outputId": "931e1de3-e657-41d1-b801-81e3a33d4662"
      },
      "execution_count": null,
      "outputs": [
        {
          "output_type": "execute_result",
          "data": {
            "text/plain": [
              "348"
            ]
          },
          "metadata": {},
          "execution_count": 30
        }
      ]
    },
    {
      "cell_type": "markdown",
      "source": [
        "### toy quest\n",
        "- 외부에서 숫자 두개를 받아 덧셈 연산 결과 출력"
      ],
      "metadata": {
        "id": "XxpO0kdjUagF"
      }
    },
    {
      "cell_type": "code",
      "source": [
        "input_first = input('input_first')\n",
        "input_second = input('input_second')\n",
        "# print(f'{input_first} / {type(input_first)}')\n",
        "# print(f'{input_second} / {type(input_second)}')\n",
        "input_first_value = int(input_first)\n",
        "input_second_value = int(input_second)\n",
        "result = input_first_value + input_second_value\n",
        "print(f'{result} = {input_first_value} + {input_second_value}')"
      ],
      "metadata": {
        "colab": {
          "base_uri": "https://localhost:8080/"
        },
        "id": "91dw-yHHUVQf",
        "outputId": "e6a7149a-691a-4319-9bae-01adfe0f3000"
      },
      "execution_count": null,
      "outputs": [
        {
          "output_type": "stream",
          "name": "stdout",
          "text": [
            "input_first7\n",
            "input_second8\n",
            "15 = 7 + 8\n"
          ]
        }
      ]
    },
    {
      "cell_type": "markdown",
      "source": [
        "###사칙연산"
      ],
      "metadata": {
        "id": "lbaBx5kyX9rl"
      }
    },
    {
      "cell_type": "code",
      "source": [
        "7 + 3 , 7 - 3 , 7 * 3 , 7 / 3 , 7 % 3"
      ],
      "metadata": {
        "colab": {
          "base_uri": "https://localhost:8080/"
        },
        "id": "BI36GnXjW51M",
        "outputId": "def8349e-9d77-43a1-9887-df221b05327d"
      },
      "execution_count": null,
      "outputs": [
        {
          "output_type": "execute_result",
          "data": {
            "text/plain": [
              "(10, 4, 21, 2.3333333333333335, 1)"
            ]
          },
          "metadata": {},
          "execution_count": 61
        }
      ]
    },
    {
      "cell_type": "code",
      "source": [
        "input_first = input('input first')\n",
        "input_second = input('input_second')\n",
        "input_first_value = int(input_first)\n",
        "input_second_value = int(input_second)\n"
      ],
      "metadata": {
        "colab": {
          "base_uri": "https://localhost:8080/"
        },
        "id": "x8wA_JI0Yu8L",
        "outputId": "5e624ac6-8bf1-49b0-deba-152db52c0f5e"
      },
      "execution_count": null,
      "outputs": [
        {
          "name": "stdout",
          "output_type": "stream",
          "text": [
            "input first7\n",
            "input_second3\n"
          ]
        }
      ]
    },
    {
      "cell_type": "code",
      "source": [
        "result_minus = input_first_value - input_second_value\n",
        "print(f'{result_minus} / {type(result_minus)}= {input_first_value} - {input_second_value}')"
      ],
      "metadata": {
        "id": "_dEKdAUQcyr7",
        "outputId": "9052553a-d37d-43b9-8f19-4eb15b0f21d2",
        "colab": {
          "base_uri": "https://localhost:8080/"
        }
      },
      "execution_count": null,
      "outputs": [
        {
          "output_type": "stream",
          "name": "stdout",
          "text": [
            "4 / <class 'int'>= 7 - 3\n"
          ]
        }
      ]
    },
    {
      "cell_type": "code",
      "source": [
        "result_multiple = input_first_value * input_second_value\n",
        "print(f'{result_multiple} / {type(result_multiple)} = {input_first_value} * {input_second_value}')"
      ],
      "metadata": {
        "colab": {
          "base_uri": "https://localhost:8080/"
        },
        "id": "g6B3KmeVaU6v",
        "outputId": "52f35891-5828-424c-a911-9d7041bdca9b"
      },
      "execution_count": null,
      "outputs": [
        {
          "output_type": "stream",
          "name": "stdout",
          "text": [
            "21 / <class 'int'> = 7 * 3\n"
          ]
        }
      ]
    },
    {
      "cell_type": "code",
      "source": [
        "result_division = input_first_value / input_second_value\n",
        "print(f'{result_division} / {type(result_division)} = {input_first_value} / {input_second_value}')"
      ],
      "metadata": {
        "colab": {
          "base_uri": "https://localhost:8080/"
        },
        "id": "jN-covRSbSSP",
        "outputId": "82521846-e02e-4c0a-95a5-447ca41ee786"
      },
      "execution_count": null,
      "outputs": [
        {
          "output_type": "stream",
          "name": "stdout",
          "text": [
            "2.3333333333333335 / <class 'float'> = 7 / 3\n"
          ]
        }
      ]
    },
    {
      "cell_type": "code",
      "source": [
        "result_surplus = input_first_value % input_second_value\n",
        "print(f'{result_surplus} / {type(result_surplus)} = {input_first_value} % {input_second_value}')"
      ],
      "metadata": {
        "colab": {
          "base_uri": "https://localhost:8080/"
        },
        "id": "yKgdaS_ecDbo",
        "outputId": "b0b1e05d-e7db-4e2c-a1c3-32deea4ac2b1"
      },
      "execution_count": null,
      "outputs": [
        {
          "output_type": "stream",
          "name": "stdout",
          "text": [
            "1 / <class 'int'> = 7 % 3\n"
          ]
        }
      ]
    },
    {
      "cell_type": "markdown",
      "source": [
        "##booleans"
      ],
      "metadata": {
        "id": "JEk87Qi6h4Dh"
      }
    },
    {
      "cell_type": "markdown",
      "source": [
        "### True or False"
      ],
      "metadata": {
        "id": "OlBt4G9oi6xh"
      }
    },
    {
      "cell_type": "code",
      "source": [
        "# first = True\n",
        "# second = False\n",
        "# first = true #error\n",
        "# second = false #error\n",
        "second = bool (0)\n",
        "first = bool (1)\n",
        "print(f'first : {first} / {type(first)} , second : {second} / {type(second)}')"
      ],
      "metadata": {
        "colab": {
          "base_uri": "https://localhost:8080/"
        },
        "id": "h_WBMsygh8RV",
        "outputId": "f9f3dd1c-619a-477c-9709-f1c3efbe0cdd"
      },
      "execution_count": null,
      "outputs": [
        {
          "output_type": "stream",
          "name": "stdout",
          "text": [
            "first : True / <class 'bool'> , second : False / <class 'bool'>\n"
          ]
        }
      ]
    },
    {
      "cell_type": "code",
      "source": [
        "not first , not second"
      ],
      "metadata": {
        "colab": {
          "base_uri": "https://localhost:8080/"
        },
        "id": "ptkAyYoc3ots",
        "outputId": "b954a5e5-36e2-44da-bf69-42c19855261c"
      },
      "execution_count": null,
      "outputs": [
        {
          "output_type": "execute_result",
          "data": {
            "text/plain": [
              "(False, True)"
            ]
          },
          "metadata": {},
          "execution_count": 4
        }
      ]
    },
    {
      "cell_type": "markdown",
      "source": [
        "### 부등호와 boolean"
      ],
      "metadata": {
        "id": "AaHU0DOzkaWJ"
      }
    },
    {
      "cell_type": "code",
      "source": [
        "5 < 7 # 5는 7보다 작다.7은 5보다 크다.대개 왼쪽부터 읽는게 자연스럽다. 컴퓨터도 그렇다."
      ],
      "metadata": {
        "colab": {
          "base_uri": "https://localhost:8080/"
        },
        "id": "fUPEFY-Vi9uQ",
        "outputId": "d807e434-50f3-4e42-f0af-5175cf21d8b7"
      },
      "execution_count": null,
      "outputs": [
        {
          "output_type": "execute_result",
          "data": {
            "text/plain": [
              "True"
            ]
          },
          "metadata": {},
          "execution_count": 78
        }
      ]
    },
    {
      "cell_type": "code",
      "source": [
        "5 < 7 , 5 > 7 ,5 == 7 , 5 <= 7 , 5 >= 7 , 5 != 7"
      ],
      "metadata": {
        "colab": {
          "base_uri": "https://localhost:8080/"
        },
        "id": "t-KDiXdglGmB",
        "outputId": "a8898ed3-109c-44a1-f2a3-524aa53698e0"
      },
      "execution_count": null,
      "outputs": [
        {
          "output_type": "execute_result",
          "data": {
            "text/plain": [
              "(True, False, False, True, False, True)"
            ]
          },
          "metadata": {},
          "execution_count": 1
        }
      ]
    },
    {
      "cell_type": "code",
      "source": [
        "first = 5\n",
        "second = 7\n",
        "first < second , first > second , first == second , first <= second , first >= second , first != second"
      ],
      "metadata": {
        "colab": {
          "base_uri": "https://localhost:8080/"
        },
        "id": "pvUbpWMKmLvY",
        "outputId": "fc6305a3-9199-40a0-dc59-35a146b920e2"
      },
      "execution_count": null,
      "outputs": [
        {
          "output_type": "execute_result",
          "data": {
            "text/plain": [
              "(True, False, False, True, False, True)"
            ]
          },
          "metadata": {},
          "execution_count": 5
        }
      ]
    },
    {
      "cell_type": "code",
      "source": [
        "not (first < second) , not (first > second) , not (first == second)"
      ],
      "metadata": {
        "colab": {
          "base_uri": "https://localhost:8080/"
        },
        "id": "jUd-_YPU3H0j",
        "outputId": "d08f2015-b822-4da1-b1b3-68685a6b3567"
      },
      "execution_count": null,
      "outputs": [
        {
          "output_type": "execute_result",
          "data": {
            "text/plain": [
              "(False, True, True)"
            ]
          },
          "metadata": {},
          "execution_count": 6
        }
      ]
    },
    {
      "cell_type": "markdown",
      "source": [
        "### and 와 or"
      ],
      "metadata": {
        "id": "rF7fAYGc4vPU"
      }
    },
    {
      "cell_type": "code",
      "source": [
        "first = 5\n",
        "second = 7\n",
        "third = 10\n",
        "\n",
        "#5보다는 크고 10보다는 작냐?\n",
        "# if 5 < 7 :\n",
        "#   if 10 < 7 : --> 복잡하다.. 그래서 and조건\n",
        "\n",
        "5 < 7 , 7 <10 , (5 <7 and 7 < 10)"
      ],
      "metadata": {
        "colab": {
          "base_uri": "https://localhost:8080/"
        },
        "id": "tu-2pT7v4zi2",
        "outputId": "71b2e490-baa2-4884-8066-e11a890b97bd"
      },
      "execution_count": null,
      "outputs": [
        {
          "output_type": "execute_result",
          "data": {
            "text/plain": [
              "(True, True, True)"
            ]
          },
          "metadata": {},
          "execution_count": 11
        }
      ]
    },
    {
      "cell_type": "markdown",
      "source": [
        "### in에 의한 True and False"
      ],
      "metadata": {
        "id": "PObqaivJT9VC"
      }
    },
    {
      "cell_type": "code",
      "source": [
        "\"cherry\" in [\"apple\", \"banana\", \"cherry\"] #list 변수에 cherry가 안에 있나?"
      ],
      "metadata": {
        "colab": {
          "base_uri": "https://localhost:8080/"
        },
        "id": "h3qd6QtcUC5y",
        "outputId": "7a8c498f-2487-43df-f7d4-b91f01ac3e13"
      },
      "execution_count": 3,
      "outputs": [
        {
          "output_type": "execute_result",
          "data": {
            "text/plain": [
              "True"
            ]
          },
          "metadata": {},
          "execution_count": 3
        }
      ]
    },
    {
      "cell_type": "code",
      "source": [
        "fruits = [\"apple\", \"banana\", \"cherry\"]\n",
        "fruit = \"cherry\"\n",
        "\n",
        "fruit in fruits"
      ],
      "metadata": {
        "colab": {
          "base_uri": "https://localhost:8080/"
        },
        "id": "W9mhD-7IVPcp",
        "outputId": "9646e10e-59f4-4f76-ace3-d2bb00a17383"
      },
      "execution_count": 6,
      "outputs": [
        {
          "output_type": "execute_result",
          "data": {
            "text/plain": [
              "True"
            ]
          },
          "metadata": {},
          "execution_count": 6
        }
      ]
    },
    {
      "cell_type": "code",
      "source": [
        "fruits = [\"apple\", \"banana\", \"cherry\"]\n",
        "fruit = \"melon\"\n",
        "\n",
        "fruit in fruits"
      ],
      "metadata": {
        "colab": {
          "base_uri": "https://localhost:8080/"
        },
        "id": "KIiQ37NKWFMw",
        "outputId": "5050ae7b-74f8-4651-bced-65c72836f40a"
      },
      "execution_count": 7,
      "outputs": [
        {
          "output_type": "execute_result",
          "data": {
            "text/plain": [
              "False"
            ]
          },
          "metadata": {},
          "execution_count": 7
        }
      ]
    }
  ]
}